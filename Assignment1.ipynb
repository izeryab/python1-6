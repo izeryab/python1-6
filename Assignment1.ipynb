{
 "cells": [
  {
   "cell_type": "code",
   "execution_count": 3,
   "metadata": {},
   "outputs": [],
   "source": [
    "def donuts(count):\n",
    "  if count < 10:\n",
    "    return 'Number of donuts: ' + str(count)\n",
    "  else:\n",
    "    return 'Number of donuts: many'"
   ]
  },
  {
   "cell_type": "code",
   "execution_count": 4,
   "metadata": {},
   "outputs": [
    {
     "data": {
      "text/plain": [
       "'Number of donuts: many'"
      ]
     },
     "execution_count": 4,
     "metadata": {},
     "output_type": "execute_result"
    }
   ],
   "source": [
    "donuts(12)"
   ]
  },
  {
   "cell_type": "code",
   "execution_count": 5,
   "metadata": {},
   "outputs": [],
   "source": [
    "def both_ends(s):\n",
    "  if len(s) < 2:\n",
    "    return ''\n",
    "  first2 = s[0:2]\n",
    "  last2 = s[-2:]\n",
    "  return first2 + last2"
   ]
  },
  {
   "cell_type": "code",
   "execution_count": 6,
   "metadata": {},
   "outputs": [
    {
     "data": {
      "text/plain": [
       "'spng'"
      ]
     },
     "execution_count": 6,
     "metadata": {},
     "output_type": "execute_result"
    }
   ],
   "source": [
    "both_ends('spring')"
   ]
  },
  {
   "cell_type": "code",
   "execution_count": 7,
   "metadata": {},
   "outputs": [],
   "source": [
    "def fix_start(s):\n",
    "  front = s[0]\n",
    "  back = s[1:]\n",
    "  fixed_back = back.replace(front, '*')\n",
    "  return front + fixed_back"
   ]
  },
  {
   "cell_type": "code",
   "execution_count": 10,
   "metadata": {},
   "outputs": [
    {
     "data": {
      "text/plain": [
       "'tu**on'"
      ]
     },
     "execution_count": 10,
     "metadata": {},
     "output_type": "execute_result"
    }
   ],
   "source": [
    "fix_start('tutton')"
   ]
  },
  {
   "cell_type": "code",
   "execution_count": 11,
   "metadata": {},
   "outputs": [],
   "source": [
    "def mix_up(a, b):\n",
    "  a_swapped = b[:2] + a[2:]\n",
    "  b_swapped = a[:2] + b[2:]\n",
    "  return a_swapped + ' ' + b_swapped"
   ]
  },
  {
   "cell_type": "code",
   "execution_count": 12,
   "metadata": {},
   "outputs": [
    {
     "data": {
      "text/plain": [
       "'pox mid'"
      ]
     },
     "execution_count": 12,
     "metadata": {},
     "output_type": "execute_result"
    }
   ],
   "source": [
    "mix_up('mix', 'pod')"
   ]
  },
  {
   "cell_type": "code",
   "execution_count": 3,
   "metadata": {},
   "outputs": [],
   "source": [
    "def test(got, expected):\n",
    "  if got == expected:\n",
    "    prefix = ' OK '\n",
    "  else:\n",
    "    prefix = '  X '\n",
    "  print ('%s got: %s expected: %s' % (prefix, repr(got), repr(expected)))"
   ]
  },
  {
   "cell_type": "code",
   "execution_count": 4,
   "metadata": {},
   "outputs": [],
   "source": [
    "def test(got, expected):\n",
    "  if got == expected:\n",
    "    prefix = ' OK '\n",
    "  else:\n",
    "    prefix = '  X '\n",
    "  print ('%s got: %s expected: %s' % (prefix, repr(got), repr(expected)))"
   ]
  },
  {
   "cell_type": "code",
   "execution_count": 5,
   "metadata": {},
   "outputs": [
    {
     "ename": "SyntaxError",
     "evalue": "Missing parentheses in call to 'print'. Did you mean print('donuts')? (<ipython-input-5-4f5b629011de>, line 2)",
     "output_type": "error",
     "traceback": [
      "\u001b[1;36m  File \u001b[1;32m\"<ipython-input-5-4f5b629011de>\"\u001b[1;36m, line \u001b[1;32m2\u001b[0m\n\u001b[1;33m    print 'donuts'\u001b[0m\n\u001b[1;37m                 ^\u001b[0m\n\u001b[1;31mSyntaxError\u001b[0m\u001b[1;31m:\u001b[0m Missing parentheses in call to 'print'. Did you mean print('donuts')?\n"
     ]
    }
   ],
   "source": [
    "def main():\n",
    "  print 'donuts'\n",
    "  # Each line calls donuts, compares its result to the expected for that call.\n",
    "  test(donuts(4), 'Number of donuts: 4')\n",
    "  test(donuts(9), 'Number of donuts: 9')\n",
    "  test(donuts(10), 'Number of donuts: many')\n",
    "  test(donuts(99), 'Number of donuts: many')\n",
    "\n",
    "  print\n",
    "  print 'both_ends'\n",
    "  test(both_ends('spring'), 'spng')\n",
    "  test(both_ends('Hello'), 'Helo')\n",
    "  test(both_ends('a'), '')\n",
    "  test(both_ends('xyz'), 'xyyz')\n",
    "\n",
    "  \n",
    "  print\n",
    "  print 'fix_start'\n",
    "  test(fix_start('babble'), 'ba**le')\n",
    "  test(fix_start('aardvark'), 'a*rdv*rk')\n",
    "  test(fix_start('google'), 'goo*le')\n",
    "  test(fix_start('donut'), 'donut')\n",
    "\n",
    "  print\n",
    "  print 'mix_up'\n",
    "  test(mix_up('mix', 'pod'), 'pox mid')\n",
    "  test(mix_up('dog', 'dinner'), 'dig donner')\n",
    "  test(mix_up('gnash', 'sport'), 'spash gnort')\n",
    "  test(mix_up('pezzy', 'firm'), 'fizzy perm')\n",
    "if __name__ == '__main__':\n",
    "  main()"
   ]
  },
  {
   "cell_type": "code",
   "execution_count": 10,
   "metadata": {},
   "outputs": [
    {
     "name": "stdout",
     "output_type": "stream",
     "text": [
      "  X  got: 'excepted' expected: 'got'\n"
     ]
    }
   ],
   "source": [
    "test('excepted', 'got')"
   ]
  }
 ],
 "metadata": {
  "kernelspec": {
   "display_name": "Python 3",
   "language": "python",
   "name": "python3"
  },
  "language_info": {
   "codemirror_mode": {
    "name": "ipython",
    "version": 3
   },
   "file_extension": ".py",
   "mimetype": "text/x-python",
   "name": "python",
   "nbconvert_exporter": "python",
   "pygments_lexer": "ipython3",
   "version": "3.7.3"
  }
 },
 "nbformat": 4,
 "nbformat_minor": 2
}
